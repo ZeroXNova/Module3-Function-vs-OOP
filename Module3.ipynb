{
 "cells": [
  {
   "cell_type": "code",
   "execution_count": null,
   "id": "fdf7da57-19cb-4f1e-b369-97ca7bc766c9",
   "metadata": {},
   "outputs": [],
   "source": [
    "#Sorting Arrays\n",
    "class Solution:\n",
    "   \n",
    "    def sortList(arr):\n",
    "        low, mid, high = 0, 0, len(arr) - 1\n",
    "\n",
    "        while mid <= high:\n",
    "            if arr[mid] == 0:\n",
    "                arr[low], arr[mid], arr[low]\n",
    "                low += 1\n",
    "                mid += 1\n",
    "            elif arr[mid] == 1:\n",
    "                mid += 1\n",
    "            else:\n",
    "                arr[mid], arr[high] = arr[high], arr[mid]\n",
    "                high -= 1"
   ]
  },
  {
   "cell_type": "code",
   "execution_count": null,
   "id": "e86e5aa5-3990-4399-9848-a4679ced1dbb",
   "metadata": {},
   "outputs": [],
   "source": [
    "#BinarSearch\n",
    "def binarySearch(arr, l, r, x):\n",
    "\n",
    "    if r >= l:\n",
    "        mid = l + (r - l) // 2\n",
    "        if arr[mid] == x:\n",
    "            return mid\n",
    "        elif arr[mid] > x:\n",
    "            return binarySearch(arr, l, mid - 1, x)\n",
    "        else:\n",
    "            return binarySearch(arr, mid + 1, r, x)\n",
    "    else:\n",
    "        return -1\n",
    "\n",
    "arr = [2, 3, 4, 10, 40]\n",
    "x = 10\n",
    "\n",
    "result = binarySearch(arr, 0, len(arr)-1, x)\n",
    "\n",
    "if result != -1:\n",
    "    print(\"Number is present at index % d\" % result)\n",
    "else:\n",
    "    print(\"Number is not in array\")"
   ]
  }
 ],
 "metadata": {
  "kernelspec": {
   "display_name": "Python 3 (ipykernel)",
   "language": "python",
   "name": "python3"
  },
  "language_info": {
   "codemirror_mode": {
    "name": "ipython",
    "version": 3
   },
   "file_extension": ".py",
   "mimetype": "text/x-python",
   "name": "python",
   "nbconvert_exporter": "python",
   "pygments_lexer": "ipython3",
   "version": "3.12.4"
  }
 },
 "nbformat": 4,
 "nbformat_minor": 5
}
